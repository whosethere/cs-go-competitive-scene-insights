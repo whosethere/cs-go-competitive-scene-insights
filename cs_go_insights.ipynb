{
 "cells": [
  {
   "cell_type": "markdown",
   "metadata": {
    "_uuid": "89123cc6d91e903f1fb96ed8b8cecade9e038bf3"
   },
   "source": [
    "# Is competitive CS:GO scene still growing? How competitive CS:GO has changed? Predicting CS:GO match outcome."
   ]
  },
  {
   "cell_type": "markdown",
   "metadata": {
    "_uuid": "88d0740ee2839d0d28fbac89866fdbcb9818801d"
   },
   "source": [
    "In this analysis, I will use 3 datasets.\n",
    "    - CS:GO Events  - dataset with LAN events since 2012 (first CS:GO tournament)\n",
    "    - CS:GO Ranking - HLTV ranking, since October 2015\n",
    "    - CS:GO Matches - competitive matches since January 2016 - extended aftermatch data from the demo file has been introduced\n",
    "All data has been scraped from www.hltv.org."
   ]
  },
  {
   "cell_type": "markdown",
   "metadata": {
    "_uuid": "e12548cd5f106c6ae80e8f04312bdf21e7b666fe"
   },
   "source": [
    "# Abstract"
   ]
  },
  {
   "cell_type": "markdown",
   "metadata": {
    "_uuid": "06e94aac7ecd10e3617e305ecebd251e724633ac"
   },
   "source": [
    "A goal of this analysis is to explore some basic information about CS:GO competitive scene. At the end I will try to use available pieces of information to predict the outcome of the CS:GO match."
   ]
  },
  {
   "cell_type": "markdown",
   "metadata": {
    "_uuid": "83d555f43bc340cfaa2c6d4ae827c378c0506e87"
   },
   "source": [
    "# Table of content\n",
    "* [All datasets have been previously cleaned](#Table-of-content)\n",
    "    * [Cleaning events dataset](https://www.kaggle.com/twistplot/cs-go-event-dataset-cleaning?scriptVersionId=6412209)\n",
    "    * [Cleaning ranking dataset](https://www.kaggle.com/twistplot/cs-go-hltv-ranking-basic-cleaning)\n",
    "    * [Cleaning matches dataset](https://www.kaggle.com/twistplot/cs-go-matches-dataset-basic-cleaning?scriptVersionId=6412200)\n",
    "*    [Exploring events dataset](#Exploring-events-dataset)\n",
    "    *      [Importing libraries](#Importing-libraries)\n",
    "    *      [Event count by year](#Events-count-by-year)\n",
    "    *      [Event count by event type](#Events-count-by-event-type)\n",
    "    *      [Money prize by year](#Money-prize-by-year)\n",
    "    *      [Average money prizes by event type by year](#Average-money-prizes-by-event-type-by-year)\n",
    "*    [Exploring ranking dataset](#Exploring-ranking-dataset)\n",
    "*    [Exploring matches dataset](#Exploring-ranking-dataset)\n",
    "    *      [Matches type distribution](#Matches-type-distribution)\n",
    "    *      [Matches and team count by year](#Matches-and-team-count-by-year)\n",
    "    *      [Exploring CS:GO maps](#Exploring-maps)\n",
    "    *      [Does side on particular map matter?](#Does-it-matter-whether-we-play-counter-terrorist-or-terrorist-side-on-a-particular-map?)\n",
    "    *      [First-half advantage - guarantee of winning?](#Does-the-advantage-after-the-first-half-guarantee-winning-the-map?)\n",
    "*      [Predicting match outcome](#Predicting-match-outcome)\n",
    "    *    [Feature engineering](#Feature-engineering)\n",
    "    *    [Preparing data for prediction model](#Preparing-data-for-prediction-model)\n",
    "    *    [Predicting match based on half time score](#Predicting-match-based-on-half-time-score)\n",
    "    *    [XGBOOSTING Matches](#XGBOOSTING-Matches)\n",
    "    *    [XGBOOST Tuning](#XGBOOST-Tuning)\n",
    "    *    [Multilayer perceptron](#Multilayer-perceptron)"
   ]
  },
  {
   "cell_type": "markdown",
   "metadata": {
    "_uuid": "95b15c36c93f1b8ea72a2d75eacb99d03418f2e0"
   },
   "source": [
    "# Exploring events dataset\n",
    "[Table of content](#Table-of-content)"
   ]
  },
  {
   "cell_type": "markdown",
   "metadata": {
    "_uuid": "8ffb4fa2fb3b4503cc181701b9c7836cec0f3347"
   },
   "source": [
    "## Importing libraries\n",
    "[Table of content](#Table-of-content)"
   ]
  },
  {
   "cell_type": "code",
   "execution_count": 1,
   "metadata": {
    "_uuid": "e9f0392a68848c8ddc605da2e6bc9e953aeb9aee"
   },
   "outputs": [],
   "source": [
    "import pandas as pd\n",
    "import numpy as np\n",
    "import matplotlib.pyplot as plt\n",
    "from matplotlib.pyplot import figure\n",
    "import seaborn as sns\n",
    "import matplotlib.patches as mpatches"
   ]
  },
  {
   "cell_type": "code",
   "execution_count": 2,
   "metadata": {
    "_uuid": "22742e91cbfa14c23560c48cff1e2a953e1acdbe"
   },
   "outputs": [],
   "source": [
    "EVENT_PATH = '../input/cleaned-csgo-events/cs_go_events_cleaned.csv'"
   ]
  },
  {
   "cell_type": "code",
   "execution_count": 3,
   "metadata": {
    "_uuid": "b3751612603d5800ef910bf57737281138ed6aa9"
   },
   "outputs": [],
   "source": [
    "df = pd.read_csv(EVENT_PATH)"
   ]
  },
  {
   "cell_type": "code",
   "execution_count": 4,
   "metadata": {
    "_uuid": "758e18a39757ab439ff93364557cb78239385089"
   },
   "outputs": [
    {
     "data": {
      "text/html": [
       "<div>\n",
       "<style scoped>\n",
       "    .dataframe tbody tr th:only-of-type {\n",
       "        vertical-align: middle;\n",
       "    }\n",
       "\n",
       "    .dataframe tbody tr th {\n",
       "        vertical-align: top;\n",
       "    }\n",
       "\n",
       "    .dataframe thead th {\n",
       "        text-align: right;\n",
       "    }\n",
       "</style>\n",
       "<table border=\"1\" class=\"dataframe\">\n",
       "  <thead>\n",
       "    <tr style=\"text-align: right;\">\n",
       "      <th></th>\n",
       "      <th>event_link</th>\n",
       "      <th>event_name</th>\n",
       "      <th>event_teams_count</th>\n",
       "      <th>event_prize</th>\n",
       "      <th>event_type</th>\n",
       "      <th>prize_pool</th>\n",
       "      <th>location</th>\n",
       "      <th>teams_placement_list</th>\n",
       "      <th>year</th>\n",
       "      <th>month</th>\n",
       "      <th>day</th>\n",
       "      <th>prize_money</th>\n",
       "      <th>country</th>\n",
       "      <th>city</th>\n",
       "    </tr>\n",
       "  </thead>\n",
       "  <tbody>\n",
       "    <tr>\n",
       "      <th>0</th>\n",
       "      <td>http://hltv.org/events/4061/wesg-2018-brunei-r...</td>\n",
       "      <td>WESG 2018 Brunei Regional Finals</td>\n",
       "      <td>4</td>\n",
       "      <td>Other</td>\n",
       "      <td>Local LAN</td>\n",
       "      <td>$1,500 + 1 spot at WESG 2018 SEA Regional Finals</td>\n",
       "      <td>Gadong, Brunei |</td>\n",
       "      <td>[[['1st'], ['ExidiuM'], [], ['Brunei'], ['/tea...</td>\n",
       "      <td>2018</td>\n",
       "      <td>9</td>\n",
       "      <td>30</td>\n",
       "      <td>1500</td>\n",
       "      <td>Brunei</td>\n",
       "      <td>Gadong</td>\n",
       "    </tr>\n",
       "    <tr>\n",
       "      <th>1</th>\n",
       "      <td>http://hltv.org/events/4068/lets-play-czestochowa</td>\n",
       "      <td>Let's Play Czestochowa</td>\n",
       "      <td>4</td>\n",
       "      <td>$3,645</td>\n",
       "      <td>Local LAN</td>\n",
       "      <td>$3,645</td>\n",
       "      <td>Czestochowa, Poland |</td>\n",
       "      <td>[[['1st'], ['FAM'], ['$2,700'], ['Poland'], ['...</td>\n",
       "      <td>2018</td>\n",
       "      <td>9</td>\n",
       "      <td>16</td>\n",
       "      <td>3645</td>\n",
       "      <td>Poland</td>\n",
       "      <td>Czestochowa</td>\n",
       "    </tr>\n",
       "    <tr>\n",
       "      <th>2</th>\n",
       "      <td>http://hltv.org/events/4070/balkan-legends</td>\n",
       "      <td>Balkan Legends</td>\n",
       "      <td>4</td>\n",
       "      <td>$2,327</td>\n",
       "      <td>Reg. LAN</td>\n",
       "      <td>$2,327</td>\n",
       "      <td>Thessaloniki, Greece |</td>\n",
       "      <td>[[['1st'], ['UltiCoin'], ['$1,163'], ['Serbia'...</td>\n",
       "      <td>2018</td>\n",
       "      <td>9</td>\n",
       "      <td>16</td>\n",
       "      <td>2327</td>\n",
       "      <td>Greece</td>\n",
       "      <td>Thessaloniki</td>\n",
       "    </tr>\n",
       "  </tbody>\n",
       "</table>\n",
       "</div>"
      ],
      "text/plain": [
       "                                          event_link  \\\n",
       "0  http://hltv.org/events/4061/wesg-2018-brunei-r...   \n",
       "1  http://hltv.org/events/4068/lets-play-czestochowa   \n",
       "2         http://hltv.org/events/4070/balkan-legends   \n",
       "\n",
       "                         event_name  event_teams_count event_prize event_type  \\\n",
       "0  WESG 2018 Brunei Regional Finals                  4       Other  Local LAN   \n",
       "1            Let's Play Czestochowa                  4      $3,645  Local LAN   \n",
       "2                    Balkan Legends                  4      $2,327   Reg. LAN   \n",
       "\n",
       "                                         prize_pool                 location  \\\n",
       "0  $1,500 + 1 spot at WESG 2018 SEA Regional Finals        Gadong, Brunei |    \n",
       "1                                            $3,645   Czestochowa, Poland |    \n",
       "2                                            $2,327  Thessaloniki, Greece |    \n",
       "\n",
       "                                teams_placement_list  year  month  day  \\\n",
       "0  [[['1st'], ['ExidiuM'], [], ['Brunei'], ['/tea...  2018      9   30   \n",
       "1  [[['1st'], ['FAM'], ['$2,700'], ['Poland'], ['...  2018      9   16   \n",
       "2  [[['1st'], ['UltiCoin'], ['$1,163'], ['Serbia'...  2018      9   16   \n",
       "\n",
       "   prize_money country          city  \n",
       "0         1500  Brunei        Gadong  \n",
       "1         3645  Poland   Czestochowa  \n",
       "2         2327  Greece  Thessaloniki  "
      ]
     },
     "execution_count": 4,
     "metadata": {},
     "output_type": "execute_result"
    }
   ],
   "source": [
    "df.head(3)"
   ]
  },
  {
   "cell_type": "markdown",
   "metadata": {
    "_uuid": "1c8c62e81148f8a273bcc151b4957577bec32f89"
   },
   "source": [
    "## Events count by year\n",
    "[Table of content](#Table-of-content)"
   ]
  },
  {
   "cell_type": "markdown",
   "metadata": {
    "_uuid": "b21884738057f100a36e96192bffacc4a74f61bd"
   },
   "source": [
    "Let's see if the CS:GO scene has grown over the past years."
   ]
  },
  {
   "cell_type": "code",
   "execution_count": 5,
   "metadata": {
    "_kg_hide-input": true,
    "_uuid": "a74a964d865c094271eccfef0e8a1edb774c7034"
   },
   "outputs": [],
   "source": [
    "df.groupby('year').count()['event_link'].reset_index()\n",
    "years_df = df.groupby('year').count().reset_index()\n",
    "years, years_count = years_df.year, years_df.event_link"
   ]
  },
  {
   "cell_type": "code",
   "execution_count": 6,
   "metadata": {
    "_kg_hide-input": true,
    "_uuid": "d95dcf2e72ee7f0637e5f5434caf506760dee7ac"
   },
   "outputs": [
    {
     "data": {
      "image/png": "[encoded data removed]",
      "text/plain": [
       "<Figure size 640x640 with 1 Axes>"
      ]
     },
     "metadata": {
      "needs_background": "light"
     },
     "output_type": "display_data"
    }
   ],
   "source": [
    "plt.figure(figsize=(8, 8), dpi=80)\n",
    "plt.bar(years, years_count)\n",
    "plt.xlabel('Year')\n",
    "plt.ylabel('Event count')\n",
    "plt.title('Event count by year')\n",
    "plt.show()"
   ]
  },
  {
   "cell_type": "markdown",
   "metadata": {
    "_uuid": "172869636be1863793f4a2a4cdc2f4d4ee1f1c64"
   },
   "source": [
    "Looks like fast CS:GO scene growth since 2014 stopped this year. We still have some time till the end of this year but event count will be similar as in 2017. Beside online games and tournaments (not included in this dataset) we have four types of LAN events. Local LAN, regional LAN, international LAN, major tournament."
   ]
  },
  {
   "cell_type": "markdown",
   "metadata": {
    "_uuid": "18704967d07db73ac8d59a41eb1954a3d003ba2a"
   },
   "source": [
    "## Events count by event type\n",
    "[Table of content](#Table-of-content)"
   ]
  },
  {
   "cell_type": "markdown",
   "metadata": {
    "_uuid": "a50eab4a8c105388ce172c5110e5d853ad3aea55"
   },
   "source": [
    "Let's see how the distribution of different events type looks like."
   ]
  },
  {
   "cell_type": "code",
   "execution_count": 7,
   "metadata": {
    "_kg_hide-input": true,
    "_uuid": "3b4ccb8c42a09944e26a339287d17f0e516b09ed"
   },
   "outputs": [
    {
     "data": {
      "text/plain": [
       "<seaborn.axisgrid.FacetGrid at 0x7ff0864cbe48>"
      ]
     },
     "execution_count": 7,
     "metadata": {},
     "output_type": "execute_result"
    },
    {
     "data": {
      "image/png": "[encoded data removed]",
      "text/plain": [
       "<Figure size 741.85x648 with 1 Axes>"
      ]
     },
     "metadata": {},
     "output_type": "display_data"
    }
   ],
   "source": [
    "event_type_by_year = df.groupby(['event_type', 'year']).count().reset_index()\n",
    "sns.set(style=\"whitegrid\")\n",
    "g = sns.catplot(x=\"year\", y=\"event_link\", hue=\"event_type\", data=event_type_by_year, height=9, kind=\"bar\", palette=\"muted\")\n",
    "g.despine(left=True)\n",
    "g.set_ylabels(\"event count\")"
   ]
  },
  {
   "cell_type": "markdown",
   "metadata": {
    "_uuid": "e59b284d6b9f11a3946635b6f40ce281be07a8db"
   },
   "source": [
    "Local lans gained a lot of new events in 2016 and 2017, but in general, the biggest increase was between 2014-2017."
   ]
  },
  {
   "cell_type": "markdown",
   "metadata": {
    "_uuid": "dcc880d1d58c83c792f77489b218d27a1c476e41"
   },
   "source": [
    "## Money prize by year\n",
    "[Table of content](#Table-of-content)"
   ]
  },
  {
   "cell_type": "code",
   "execution_count": 8,
   "metadata": {
    "_kg_hide-input": true,
    "_uuid": "facea5a9bdf884569b12c7b14cc1ea919f231b1c"
   },
   "outputs": [
    {
     "data": {
      "image/png": "[encoded data removed]",
      "text/plain": [
       "<Figure size 640x640 with 1 Axes>"
      ]
     },
     "metadata": {},
     "output_type": "display_data"
    }
   ],
   "source": [
    "money_year = df.groupby('year').count().reset_index()\n",
    "money_by_year = df.groupby(['year']).sum()['prize_money'].reset_index()\n",
    "plt.figure(figsize=(8, 8), dpi=80)\n",
    "plt.bar(money_by_year.year, money_by_year.prize_money/1000000)\n",
    "plt.xlabel('Year')\n",
    "plt.ylabel('Money prize - mln $')\n",
    "plt.title('Money prizes by year')\n",
    "plt.show()"
   ]
  },
  {
   "cell_type": "markdown",
   "metadata": {
    "_uuid": "a6e765e7ca530adb5e6a0b3096dba87af1d67ca1"
   },
   "source": [
    "Money prizes also reached their peak in 2017, the biggest growth was between 2015-2016. Till the end of 2018, there are no more tournaments with big money prizes, so total prize money will be similar as in 2017."
   ]
  },
  {
   "cell_type": "markdown",
   "metadata": {
    "_uuid": "8f0bec83a4422cb3e9836204fd351e201effe477"
   },
   "source": [
    "## Average money prizes by event type by year\n",
    "[Table of content](#Table-of-content)"
   ]
  },
  {
   "cell_type": "code",
   "execution_count": 9,
   "metadata": {
    "_kg_hide-input": true,
    "_uuid": "1967726896f3e965d5c5d05b05edd10ac0b70b42"
   },
   "outputs": [
    {
     "data": {
      "text/plain": [
       "<seaborn.axisgrid.FacetGrid at 0x7ff086075b00>"
      ]
     },
     "execution_count": 9,
     "metadata": {},
     "output_type": "execute_result"
    },
    {
     "data": {
      "image/png": "[encoded data removed]",
      "text/plain": [
       "<Figure size 741.85x648 with 1 Axes>"
      ]
     },
     "metadata": {},
     "output_type": "display_data"
    }
   ],
   "source": [
    "x = df.groupby(['event_type', 'year']).sum()['prize_money']/df.groupby(['event_type', 'year']).count()['event_link']\n",
    "money_by_event_by_year = x.reset_index() # inplace=True - > TypeError: Cannot reset_index inplace on a Series to create a DataFrame\n",
    "money_by_event_by_year.columns.values\n",
    "money_by_event_by_year.columns = ['event_type', 'year', 'average_money']\n",
    "\n",
    "sns.set(style=\"whitegrid\")\n",
    "g = sns.catplot(x=\"year\", y=\"average_money\", hue=\"event_type\", data=money_by_event_by_year, height=9, kind=\"bar\", palette=\"muted\")\n",
    "g.despine(left=True)\n",
    "g.set_ylabels(\"average money prize by event\")"
   ]
  },
  {
   "cell_type": "markdown",
   "metadata": {
    "_uuid": "dd88e93aab420fd42e788301c227e7f3e9b2c911"
   },
   "source": [
    "Large average increase is on major tournament - prize pool has increased four times in 2016|. Local and regional lans are not focused on money prizes, looks like the main prize in these competitions is spot on more significant competitions (local>regional>international>major)."
   ]
  },
  {
   "cell_type": "markdown",
   "metadata": {
    "_uuid": "ab994e5140f43256c4b80e2ffd0f0e6f4bf17e6f"
   },
   "source": [
    "# Exploring ranking dataset\n",
    "[Table of content](#Table-of-content)"
   ]
  },
  {
   "cell_type": "code",
   "execution_count": 10,
   "metadata": {
    "_uuid": "c8997dd6fe16b4a36c40910a9f4586a1b615f553"
   },
   "outputs": [],
   "source": [
    "RANKING_PATH = '../input/cleaned-csgo-rankings/cs_go_hltv_ranking_clean.csv'"
   ]
  },
  {
   "cell_type": "markdown",
   "metadata": {
    "_uuid": "e58a180d2244e42717330e93da8f319f1e041bff"
   },
   "source": [
    "# Exploring matches dataset\n",
    "[Table of content](#Table-of-content)"
   ]
  },
  {
   "cell_type": "code",
   "execution_count": 11,
   "metadata": {
    "_kg_hide-input": true,
    "_uuid": "a56fd3b32e8710978d92bddf3234907654fac774"
   },
   "outputs": [
    {
     "name": "stdout",
     "output_type": "stream",
     "text": [
      "Maps played: 39381\n",
      "Matches: 24015\n"
     ]
    }
   ],
   "source": [
    "MATCHES_PATH = '../input/cleaned-csgo-matches/cs_go_matches_cleaned.csv'\n",
    "\n",
    "df = pd.read_csv(MATCHES_PATH, low_memory=False)\n",
    "\n",
    "df.columns.values\n",
    "\n",
    "print(\"Maps played: \"+str(df.shape[0]))\n",
    "print(\"Matches: \"+str(len(df.match_id.unique())))"
   ]
  },
  {
   "cell_type": "markdown",
   "metadata": {
    "_uuid": "665f44a9545dc99ba6f73cc516bd03268333d8ea"
   },
   "source": [
    "In CS:GO match dataset 39381 maps are played in 24015 matches. There are several types of matches on the CS: GO tournament stage - Best of(BO) 1, BO2, BO3, BO5. Let's see how the distribution of different types of matches looks."
   ]
  },
  {
   "cell_type": "markdown",
   "metadata": {
    "_uuid": "d01bbfd441a7e7c335790161fcd5819c21b2c74d"
   },
   "source": [
    "## Matches type distribution\n",
    "[Table of content](#Table-of-content)"
   ]
  },
  {
   "cell_type": "code",
   "execution_count": 12,
   "metadata": {
    "_kg_hide-input": true,
    "_uuid": "d4f6e1fbb3251528a060e17d7d4df9b48747092b"
   },
   "outputs": [
    {
     "data": {
      "image/png": "[encoded data removed]",
      "text/plain": [
       "<Figure size 640x640 with 1 Axes>"
      ]
     },
     "metadata": {},
     "output_type": "display_data"
    }
   ],
   "source": [
    "matches_type = df.best_of.value_counts().reset_index()\n",
    "matches_type.columns = ['best_of_type', 'best_of_count']\n",
    "matches_type = df.best_of.value_counts().reset_index()\n",
    "matches_type.columns = ['best_of_type', 'best_of_count']\n",
    "plt.figure(figsize=(8, 8), dpi=80)\n",
    "plt.bar(matches_type.best_of_type, matches_type.best_of_count)\n",
    "plt.xlabel('Best of ')\n",
    "plt.ylabel('Matches count')\n",
    "plt.title('Count of different matches type')\n",
    "plt.show()"
   ]
  },
  {
   "cell_type": "code",
   "execution_count": 13,
   "metadata": {
    "_kg_hide-input": true,
    "_kg_hide-output": true,
    "_uuid": "68498d2f1ebeb657858cb3ebf463a76cccad37dd"
   },
   "outputs": [
    {
     "data": {
      "text/plain": [
       "0.6073233285086717"
      ]
     },
     "execution_count": 13,
     "metadata": {},
     "output_type": "execute_result"
    }
   ],
   "source": [
    "len(df[df.best_of == 3]) / len(df.best_of)"
   ]
  },
  {
   "cell_type": "markdown",
   "metadata": {
    "_uuid": "099333f97c1856ae718d55ba0b94401036582f0d"
   },
   "source": [
    "Most popular type is best of 3 (~61%), good for different tournament formats - eliminates randomity playing one map which could not be good for one of the teams at the moment, but also isn't too long - as playing one map takes about 40-50 minutes. The least popular is best of 5 type. It is often played as the final of the tournament."
   ]
  },
  {
   "cell_type": "markdown",
   "metadata": {
    "_uuid": "e751820a5803ee7429b63d5ef27f0f315eef3042"
   },
   "source": [
    "## Matches and team count by year \n",
    "[Table of content](#Table-of-content)"
   ]
  },
  {
   "cell_type": "code",
   "execution_count": 14,
   "metadata": {
    "_kg_hide-input": true,
    "_uuid": "2bee08efdb77ed3cc6f0c1f573c956d8958a29c6"
   },
   "outputs": [
    {
     "name": "stdout",
     "output_type": "stream",
     "text": [
      "Matches in 2016: 6486\n",
      "Matches in 2017: 10461\n",
      "Matches in 2018: 7068\n"
     ]
    }
   ],
   "source": [
    "matches_count_2016 = len(df[df.year == 2016].match_id.unique())\n",
    "matches_count_2017 = len(df[df.year == 2017].match_id.unique())\n",
    "matches_count_2018 = len(df[df.year == 2018].match_id.unique())\n",
    "print(\"Matches in 2016: \" + str(matches_count_2016) )\n",
    "print(\"Matches in 2017: \" + str(matches_count_2017) )\n",
    "print(\"Matches in 2018: \" + str(matches_count_2018) )"
   ]
  },
  {
   "cell_type": "markdown",
   "metadata": {
    "_uuid": "02b1123c6fbdc1aea579b8849a78be0b40d1af3b"
   },
   "source": [
    "Big increase in 2017 is partly because of big local lans increase. This growth is a year after the prize pool has increased in 2016 almost 3 times in comparison to 2015. "
   ]
  },
  {
   "cell_type": "markdown",
   "metadata": {
    "_uuid": "e264a265045bdf43562112575c6658456a034129"
   },
   "source": [
    "Are there more professional teams on the CS:GO scene or just the same teams play more matches?"
   ]
  },
  {
   "cell_type": "code",
   "execution_count": 15,
   "metadata": {
    "_kg_hide-input": true,
    "_uuid": "d412ed05188141558549dc13382df6d7f2fd08e5"
   },
   "outputs": [
    {
     "name": "stdout",
     "output_type": "stream",
     "text": [
      "Teams in 2016: 1148\n",
      "Teams in 2017: 1493\n",
      "Teams in 2018: 1052\n"
     ]
    }
   ],
   "source": [
    "team_count_16 = len(pd.concat([df[df.year == 2016].home_team_id, df[df.year == 2016].away_team_id]).unique())\n",
    "team_count_17 =len(pd.concat([df[df.year == 2017].home_team_id, df[df.year == 2017].away_team_id]).unique())\n",
    "team_count_18 =len(pd.concat([df[df.year == 2018].home_team_id, df[df.year == 2018].away_team_id]).unique())\n",
    "\n",
    "print(\"Teams in 2016: \" + str(team_count_16) )\n",
    "print(\"Teams in 2017: \" + str(team_count_17) )\n",
    "print(\"Teams in 2018: \" + str(team_count_18) )"
   ]
  },
  {
   "cell_type": "code",
   "execution_count": 16,
   "metadata": {
    "_kg_hide-input": true,
    "_kg_hide-output": true,
    "_uuid": "ca4a77620bc3ef85271de5aacfd1369f5179f4c1"
   },
   "outputs": [
    {
     "data": {
      "text/plain": [
       "1.613"
      ]
     },
     "execution_count": 16,
     "metadata": {},
     "output_type": "execute_result"
    }
   ],
   "source": [
    "round(team_count_17/team_count_16, 3)\n",
    "round(matches_count_2017/matches_count_2016, 3)"
   ]
  },
  {
   "cell_type": "markdown",
   "metadata": {
    "_uuid": "cbdc1aa10736d08fc97c50afe0924cea67cb9687"
   },
   "source": [
    "The number of matches increased by 61% while the number of playing teams by 30% comparing 2016 to 2017."
   ]
  },
  {
   "cell_type": "markdown",
   "metadata": {
    "_uuid": "e62a8c31848facab9cf455078872c5cc0d27cbfd"
   },
   "source": [
    "## Exploring maps\n",
    "[Table of content](#Table-of-content)"
   ]
  },
  {
   "cell_type": "code",
   "execution_count": 17,
   "metadata": {
    "_kg_hide-input": true,
    "_uuid": "e28a8617c8218446780f7475f26f128b2816e0fc"
   },
   "outputs": [
    {
     "data": {
      "image/png": "[encoded data removed]",
      "text/plain": [
       "<Figure size 720x720 with 1 Axes>"
      ]
     },
     "metadata": {},
     "output_type": "display_data"
    }
   ],
   "source": [
    "maps_count = df.maps.value_counts().reset_index()\n",
    "maps_count = df.maps.value_counts().reset_index()\n",
    "maps_count.columns = ['map_name', 'map_count']\n",
    "plt.figure(figsize=(9, 9), dpi=80)\n",
    "plt.bar(maps_count.map_name, maps_count.map_count)\n",
    "plt.xlabel('Map name ')\n",
    "plt.ylabel('Map count')\n",
    "plt.title('Number of games per map')\n",
    "plt.show()"
   ]
  },
  {
   "cell_type": "markdown",
   "metadata": {
    "_uuid": "4a137a71f6cfa8e1d29ee5a1978ae1f303f623cc"
   },
   "source": [
    "The most popular map is a Mirage. The least popular maps are Nuke and Dust2. This is partly due to the fact that in recent years they have been outside the official map pool. The reason was the change in the graphic appearance of the map. There are no major differences between the other maps."
   ]
  },
  {
   "cell_type": "markdown",
   "metadata": {
    "_uuid": "b122666cec2fc12ac8da27eaf93ae963d0555dde"
   },
   "source": [
    "## Does it matter whether we play counter-terrorist or terrorist side on a particular map?\n",
    "[Table of content](#Table-of-content)"
   ]
  },
  {
   "cell_type": "code",
   "execution_count": 18,
   "metadata": {
    "_kg_hide-input": true,
    "_uuid": "4f15d080c6c09519a567c81d04276d14d9612907"
   },
   "outputs": [],
   "source": [
    "hfs = df.groupby(['fist_half_home_side','maps']).home_first_score.sum().reset_index()\n",
    "ass = df.groupby(['fist_half_home_side','maps']).away_second_score.sum().reset_index()\n",
    "hss = df.groupby(['fist_half_home_side','maps']).home_second_score.sum().reset_index()\n",
    "afs = df.groupby(['fist_half_home_side','maps']).away_first_score.sum().reset_index()\n",
    "ct_1 = hfs[hfs.fist_half_home_side == 0].home_first_score + ass[ass.fist_half_home_side == 0].away_second_score #ct\n",
    "t_1 = hfs[hfs.fist_half_home_side == 1].home_first_score + ass[ass.fist_half_home_side == 1].away_second_score #t\n",
    "t_2 = hss[hss.fist_half_home_side == 0].home_second_score + afs[afs.fist_half_home_side == 0].away_first_score #t\n",
    "ct_2 = hss[hss.fist_half_home_side == 1].home_second_score + afs[afs.fist_half_home_side == 1].away_first_score #ct\n",
    "ct_1 = ct_1.reset_index().drop('index', axis=1)\n",
    "ct_2 = ct_2.reset_index().drop('index', axis=1)\n",
    "t_1 = t_1.reset_index().drop('index', axis=1)\n",
    "t_2 = t_2.reset_index().drop('index', axis=1)\n",
    "ct_terro_percent = pd.DataFrame\n",
    "ct_terro_percent = t_1 +t_2\n",
    "ct_terro_percent.columns = ['terro_won_total']\n",
    "ct_terro_percent['maps'] = afs[afs.fist_half_home_side == 0].maps\n",
    "ct_terro_percent['ct_won_total'] = (ct_1 + ct_2)\n",
    "ct_terro_percent['total_rounds'] = (ct_1 + ct_2) + (t_1 + t_2)\n"
   ]
  },
  {
   "cell_type": "code",
   "execution_count": 19,
   "metadata": {
    "_kg_hide-input": true,
    "_uuid": "0bc547b621d79cc37ebf547c0910efcf3534bc98"
   },
   "outputs": [
    {
     "data": {
      "image/png": "[encoded data removed]",
      "text/plain": [
       "<Figure size 720x720 with 1 Axes>"
      ]
     },
     "metadata": {},
     "output_type": "display_data"
    }
   ],
   "source": [
    "r = [0,1,2,3,4,5,6,7]\n",
    "terro_percent = [i / j * 100 for i,j in zip(ct_terro_percent['terro_won_total'], ct_terro_percent['total_rounds'])]\n",
    "ct_percent = [i / j * 100 for i,j in zip(ct_terro_percent['ct_won_total'], ct_terro_percent['total_rounds'])]\n",
    "plt.figure(figsize=(9, 9), dpi=80)\n",
    "barWidth = 0.9\n",
    "names = ('Cache','Cobblestone','Dust2','Inferno','Mirage', 'Nuke','Overpass','Train',)\n",
    "plt.bar(r, terro_percent, color='#FFFF66', edgecolor='white', width=barWidth)\n",
    "plt.bar(r, ct_percent, bottom=terro_percent, color='#00BFFF', edgecolor='white', width=barWidth)\n",
    "plt.xticks(r, names)\n",
    "plt.xlabel(\"Map\")\n",
    "plt.ylabel(\"Percentage\")\n",
    "plt.title(\"Rounds won by CT or T side by map\")\n",
    "blue_patch = mpatches.Patch(color='#00BFFF', label='Counter terrorist')\n",
    "yellow_patch = mpatches.Patch(color='#FFFF66', label='Terrorist')\n",
    "plt.legend(handles=[blue_patch, yellow_patch])\n",
    "plt.yticks([0,10,20,30,40,45,55,60,70,80,90,100])\n",
    "plt.axhline(y=50, color=\"red\")\n",
    "plt.show()"
   ]
  },
  {
   "cell_type": "markdown",
   "metadata": {
    "_uuid": "7af9763333be09ec292c5a8cca95e7273633e5e4"
   },
   "source": [
    "Only one map clearly favors terrorist side(Cache), while Mirage, Overpass, Train, and Nuke are maps that are easier to play on the counter-terrorist side. Especially Nuke and Train - the defending side wins around 55% of the rounds played on these maps."
   ]
  },
  {
   "cell_type": "markdown",
   "metadata": {
    "_uuid": "f0b095093a20851143ad52ce6da803808069fb97"
   },
   "source": [
    "## Does the advantage after the first half guarantee winning the map?\n",
    "[Table of content](#Table-of-content)"
   ]
  },
  {
   "cell_type": "markdown",
   "metadata": {
    "_uuid": "ebc2af5d523caf4ec4e4e2ee05b7bbcf18202e1b"
   },
   "source": [
    "In this case, I will check if the advantage after the first half can guarantee winning the whole map. Overtime will be treated as \"not winning\"."
   ]
  },
  {
   "cell_type": "code",
   "execution_count": 20,
   "metadata": {
    "_kg_hide-input": true,
    "_uuid": "38f31ec2fdad5f2856394e73132065d1bc2a0a56"
   },
   "outputs": [
    {
     "name": "stdout",
     "output_type": "stream",
     "text": [
      "Winning the map after winning the first half occurred in 73.76% cases\n",
      "Overtime was the case in 8.68% matches\n",
      "Loosing map after adventage after first half: 17.56%\n"
     ]
    }
   ],
   "source": [
    "overtime_count = df[(df.home_first_score + df.home_second_score) == (df.away_first_score + df.away_second_score)].shape[0]\n",
    "adventage_won_home = df[(df.home_first_score > df.away_first_score) & ((df.home_first_score + df.home_second_score) > (df.away_first_score+ df.away_second_score))].shape[0]\n",
    "adventage_won_away = df[(df.home_first_score < df.away_first_score) & ((df.home_first_score + df.home_second_score) < (df.away_first_score+ df.away_second_score))].shape[0]\n",
    "total_matches = df.shape[0]\n",
    "adv_won_percent = round((adventage_won_away + adventage_won_home) / total_matches *100, 2)\n",
    "overtime_percent = round(overtime_count / total_matches * 100, 2)\n",
    "adv_lost_percent = round(100-(adv_won_percent+overtime_percent), 2)\n",
    "print(\"Winning the map after winning the first half occurred in \" +str(adv_won_percent) + \"% cases\")\n",
    "print(\"Overtime was the case in \" +str(overtime_percent) + \"% matches\")\n",
    "print(\"Loosing map after adventage after first half: \" +str(adv_lost_percent) + \"%\")"
   ]
  },
  {
   "cell_type": "markdown",
   "metadata": {
    "_uuid": "d7b23bb8682845a8f3e4a65272ec1895ba7970ec"
   },
   "source": [
    "Almost 3/4 matches are won in regular time by the team leading after the first half."
   ]
  },
  {
   "cell_type": "markdown",
   "metadata": {
    "_uuid": "48fbfb5c2d5f1820d450cfb4b4c398dbb516c4b8"
   },
   "source": [
    "# Predicting match outcome\n",
    "[Table of content](#Table-of-content)"
   ]
  },
  {
   "cell_type": "markdown",
   "metadata": {
    "_uuid": "38039ac8b939a8875e0e92000cdc5f3e9273fe4d"
   },
   "source": [
    "## Feature engineering\n",
    "[Table of content](#Table-of-content)"
   ]
  },
  {
   "cell_type": "markdown",
   "metadata": {
    "_uuid": "03de2923a49c15bd116c8aacb40bfb05993c603b"
   },
   "source": [
    "In this case, I consider only LAN events."
   ]
  },
  {
   "cell_type": "code",
   "execution_count": 21,
   "metadata": {
    "_uuid": "6a844528e6ab1d97b75844b65af8a31d7713459b"
   },
   "outputs": [],
   "source": [
    "# reading dataframes"
   ]
  },
  {
   "cell_type": "code",
   "execution_count": 22,
   "metadata": {
    "_uuid": "8fc3c5fed70aead57a4c28fad12a107f5368b3d1"
   },
   "outputs": [],
   "source": [
    "df_events = pd.read_csv(EVENT_PATH)"
   ]
  },
  {
   "cell_type": "code",
   "execution_count": 23,
   "metadata": {
    "_uuid": "1f106ce2d2f462481023fc9a8ee1892fa6863b10"
   },
   "outputs": [],
   "source": [
    "df_matches = pd.read_csv(MATCHES_PATH, low_memory=False)"
   ]
  },
  {
   "cell_type": "code",
   "execution_count": 24,
   "metadata": {
    "_uuid": "90d6e47155fa810d119d9501f83c75f25afb6d53"
   },
   "outputs": [],
   "source": [
    "df_ranking = pd.read_csv(RANKING_PATH)"
   ]
  },
  {
   "cell_type": "code",
   "execution_count": 25,
   "metadata": {
    "_uuid": "6447a3acaef19a6b1792af42bbcf7b57bbc694d1"
   },
   "outputs": [],
   "source": [
    "# getting event/tournament id from link"
   ]
  },
  {
   "cell_type": "code",
   "execution_count": 26,
   "metadata": {
    "_uuid": "3e06c911192dfe5a43b74986b5a5b6754598c75a"
   },
   "outputs": [
    {
     "data": {
      "text/plain": [
       "array(['event_link', 'event_name', 'event_teams_count', 'event_prize',\n",
       "       'event_type', 'prize_pool', 'location', 'teams_placement_list',\n",
       "       'year', 'month', 'day', 'prize_money', 'country', 'city'],\n",
       "      dtype=object)"
      ]
     },
     "execution_count": 26,
     "metadata": {},
     "output_type": "execute_result"
    }
   ],
   "source": [
    "df_events.columns.values"
   ]
  },
  {
   "cell_type": "code",
   "execution_count": 27,
   "metadata": {
    "_uuid": "acd79c6e445fe7f32c5c550566f74b980c77f3f7"
   },
   "outputs": [],
   "source": [
    "df_events['event_id'] = df_events.event_link.str.split(\"/\")"
   ]
  },
  {
   "cell_type": "code",
   "execution_count": 28,
   "metadata": {
    "_uuid": "7d91b4f31a4b30065b575e634885fb5becb401b6"
   },
   "outputs": [],
   "source": [
    "events_id = df_events.event_id.reset_index()"
   ]
  },
  {
   "cell_type": "code",
   "execution_count": 29,
   "metadata": {
    "_uuid": "7c71fbfb705e0db068340363c3816fbb53719bcf"
   },
   "outputs": [],
   "source": [
    "events_id.columns = ['h_index', 'event_id']"
   ]
  },
  {
   "cell_type": "code",
   "execution_count": 30,
   "metadata": {
    "_uuid": "dc98da1de0b092558c5d892fe9025ed527865913"
   },
   "outputs": [],
   "source": [
    "for h_index in events_id.h_index:\n",
    "    df_events.loc[h_index, 'event_id'] = df_events.loc[h_index].event_id[4]"
   ]
  },
  {
   "cell_type": "code",
   "execution_count": 31,
   "metadata": {
    "_uuid": "92397466d8ae1a75fbbe63699d3d44a224ec050d"
   },
   "outputs": [
    {
     "data": {
      "text/plain": [
       "0    4061\n",
       "1    4068\n",
       "2    4070\n",
       "Name: event_id, dtype: object"
      ]
     },
     "execution_count": 31,
     "metadata": {},
     "output_type": "execute_result"
    }
   ],
   "source": [
    "df_events.event_id.head(3)"
   ]
  },
  {
   "cell_type": "code",
   "execution_count": 32,
   "metadata": {
    "_uuid": "4f4284889475ac56eee6567adf44006c9c279e92"
   },
   "outputs": [],
   "source": [
    "# combining dataframes - matches with events by event id - "
   ]
  },
  {
   "cell_type": "code",
   "execution_count": 33,
   "metadata": {
    "_uuid": "7b350ae3ecc0e7451913aa58b295c6906c5dccc9"
   },
   "outputs": [],
   "source": [
    "event_id_list = df_events.event_id.astype(int).tolist()"
   ]
  },
  {
   "cell_type": "code",
   "execution_count": 34,
   "metadata": {
    "_uuid": "e94e24ba5f603d988f1babbca221cc737de903b2"
   },
   "outputs": [],
   "source": [
    "df_event_matches = pd.DataFrame"
   ]
  },
  {
   "cell_type": "code",
   "execution_count": 35,
   "metadata": {
    "_uuid": "7076cb00b20e13330bcc925184eaf772e085e486"
   },
   "outputs": [
    {
     "data": {
      "text/plain": [
       "(39381, 143)"
      ]
     },
     "execution_count": 35,
     "metadata": {},
     "output_type": "execute_result"
    }
   ],
   "source": [
    "df_matches.shape"
   ]
  },
  {
   "cell_type": "code",
   "execution_count": 36,
   "metadata": {
    "_uuid": "d7c1472f4f06834937728d2861934fdd691b980f"
   },
   "outputs": [],
   "source": [
    "# This loop is taking some time so after the first launch, I saved the data frame to CSV file\n",
    "\n",
    "# for event_id in range(0, len(df_matches.tournament_id)-1):\n",
    "#     if not df_matches.loc[event_id].tournament_id in event_id_list:\n",
    "#         df_matches = df_matches.drop(event_id)\n",
    "# df_matches.to_csv('matches_to_model.csv', index=False)\n",
    "df_matches = pd.read_csv('../input/cs-go-matches-to-model-clean/matches_to_model.csv', low_memory=False)"
   ]
  },
  {
   "cell_type": "code",
   "execution_count": 37,
   "metadata": {
    "_uuid": "27e6c72801040659ad76c3bb383b7bc2f7e0de28"
   },
   "outputs": [
    {
     "data": {
      "text/plain": [
       "(10698, 143)"
      ]
     },
     "execution_count": 37,
     "metadata": {},
     "output_type": "execute_result"
    }
   ],
   "source": [
    "df_matches.shape"
   ]
  },
  {
   "cell_type": "code",
   "execution_count": 38,
   "metadata": {
    "_uuid": "bee6005b59ffc6b5a70db1c7363febfe944266eb"
   },
   "outputs": [],
   "source": [
    "df_matches = df_matches.reset_index().drop(\"index\", axis=1)"
   ]
  },
  {
   "cell_type": "code",
   "execution_count": 39,
   "metadata": {
    "_kg_hide-output": true,
    "_uuid": "a734d79041e4e3ed086d854434423138600b0834",
    "scrolled": true
   },
   "outputs": [
    {
     "data": {
      "text/plain": [
       "array(['match_id', 'match_link', 'match_time', 'home_team_country',\n",
       "       'away_team_country', 'home_team_name', 'away_team_name',\n",
       "       'home_team_link', 'away_team_link', 'match_notes',\n",
       "       'match_demo_link', 'tournament_id', 'tournament_link', 'vote_ban',\n",
       "       'maps', 'home_team_id', 'away_team_id', 'home_first_score',\n",
       "       'away_first_score', 'home_second_score', 'away_second_score',\n",
       "       'home_team_score', 'away_team_score', 'stats_link',\n",
       "       'home_first_kills', 'away_first_kills', 'home_clutches_won',\n",
       "       'away_clutches_won', 'ht_p1_id', 'ht_p1_name', 'ht_p1_link',\n",
       "       'ht_p1_kills', 'ht_p1_headshots', 'ht_p1_asists', 'ht_p1_deaths',\n",
       "       'ht_p1_kast', 'ht_p1_adr', 'ht_p1_fk_diff', 'ht_p1_rating20',\n",
       "       'ht_p2_id', 'ht_p2_name', 'ht_p2_link', 'ht_p2_kills',\n",
       "       'ht_p2_headshots', 'ht_p2_asists', 'ht_p2_deaths', 'ht_p2_kast',\n",
       "       'ht_p2_adr', 'ht_p2_fk_diff', 'ht_p2_rating20', 'ht_p3_id',\n",
       "       'ht_p3_name', 'ht_p3_link', 'ht_p3_kills', 'ht_p3_headshots',\n",
       "       'ht_p3_asists', 'ht_p3_deaths', 'ht_p3_kast', 'ht_p3_adr',\n",
       "       'ht_p3_fk_diff', 'ht_p3_rating20', 'ht_p4_id', 'ht_p4_name',\n",
       "       'ht_p4_link', 'ht_p4_kills', 'ht_p4_headshots', 'ht_p4_asists',\n",
       "       'ht_p4_deaths', 'ht_p4_kast', 'ht_p4_adr', 'ht_p4_fk_diff',\n",
       "       'ht_p4_rating20', 'ht_p5_id', 'ht_p5_name', 'ht_p5_link',\n",
       "       'ht_p5_kills', 'ht_p5_headshots', 'ht_p5_asists', 'ht_p5_deaths',\n",
       "       'ht_p5_kast', 'ht_p5_adr', 'ht_p5_fk_diff', 'ht_p5_rating20',\n",
       "       'at_p1_id', 'at_p1_name', 'at_p1_link', 'at_p1_kills',\n",
       "       'at_p1_headshots', 'at_p1_asists', 'at_p1_deaths', 'at_p1_kast',\n",
       "       'at_p1_adr', 'at_p1_fk_diff', 'at_p1_rating20', 'at_p2_id',\n",
       "       'at_p2_name', 'at_p2_link', 'at_p2_kills', 'at_p2_headshots',\n",
       "       'at_p2_asists', 'at_p2_deaths', 'at_p2_kast', 'at_p2_adr',\n",
       "       'at_p2_fk_diff', 'at_p2_rating20', 'at_p3_id', 'at_p3_name',\n",
       "       'at_p3_link', 'at_p3_kills', 'at_p3_headshots', 'at_p3_asists',\n",
       "       'at_p3_deaths', 'at_p3_kast', 'at_p3_adr', 'at_p3_fk_diff',\n",
       "       'at_p3_rating20', 'at_p4_id', 'at_p4_name', 'at_p4_link',\n",
       "       'at_p4_kills', 'at_p4_headshots', 'at_p4_asists', 'at_p4_deaths',\n",
       "       'at_p4_kast', 'at_p4_adr', 'at_p4_fk_diff', 'at_p4_rating20',\n",
       "       'at_p5_id', 'at_p5_name', 'at_p5_link', 'at_p5_kills',\n",
       "       'at_p5_headshots', 'at_p5_asists', 'at_p5_deaths', 'at_p5_kast',\n",
       "       'at_p5_adr', 'at_p5_fk_diff', 'at_p5_rating20',\n",
       "       'fist_half_home_side', 'best_of', 'year', 'month', 'day'],\n",
       "      dtype=object)"
      ]
     },
     "execution_count": 39,
     "metadata": {},
     "output_type": "execute_result"
    }
   ],
   "source": [
    "df_matches.columns.values"
   ]
  },
  {
   "cell_type": "markdown",
   "metadata": {
    "_uuid": "e03a15d07dbff0b5c79acae161d24ce909c4d45b"
   },
   "source": [
    "Variables used to create data for model:\n",
    "    - best_of - game type\n",
    "    - fist_half_home_side - first side for home team\n",
    "    - maps - map on which game is played\n",
    "    - year - year in which the match was played\n",
    "    - month - month in which the match was played\n",
    "    - home_team_id - Unique home team id\n",
    "    - away_team_id - Unique away team id\n",
    "    - ht_p1_id - Unique home player 1 id, player 2 id...\n",
    "    - at_p1_id - Unique away player 1 id...\n",
    "    - home_first_score - first half score for home team\n",
    "    - away_first_score - first half score for away team\n",
    "    \n",
    "    Other variables were used for creating target variable - who won the match"
   ]
  },
  {
   "cell_type": "code",
   "execution_count": 40,
   "metadata": {
    "_uuid": "d187eaf46d9405970443708f3dc2c22d517d1463"
   },
   "outputs": [],
   "source": [
    "df_work_data = df_matches[['best_of','fist_half_home_side','maps',\n",
    "                           'year','month','home_team_id','away_team_id',\n",
    "                           'ht_p1_id','ht_p2_id','ht_p3_id','ht_p4_id','ht_p5_id',\n",
    "                           'at_p1_id','at_p2_id','at_p3_id','at_p4_id','at_p5_id',\n",
    "                           'home_first_score','away_first_score','home_second_score','away_second_score',\n",
    "                           'home_team_score','away_team_score']]"
   ]
  },
  {
   "cell_type": "markdown",
   "metadata": {
    "_uuid": "07dcaf50f2ef0155d48c7c03147b547d002b0ba9"
   },
   "source": [
    "Due to missing information in matches dataset, I have to drop maps with overtime - in bo3, there is no option to tell if the particular map was won by the home team or away team. Overtimes with bo1 type are still used."
   ]
  },
  {
   "cell_type": "code",
   "execution_count": 41,
   "metadata": {
    "_uuid": "edccc4823a9dc2bd63ef33a73d2a2ea75a8f25a6",
    "scrolled": true
   },
   "outputs": [],
   "source": [
    "sel_rows = df_work_data[(((df_work_data.home_first_score + df_work_data.home_second_score) == \n",
    "              (df_work_data.away_first_score + df_work_data.away_second_score)) \n",
    "             & (df_work_data.best_of == 3))].index"
   ]
  },
  {
   "cell_type": "code",
   "execution_count": 42,
   "metadata": {
    "_uuid": "b568ab690f5a9a1086d8fab5438c220aad6fd66f"
   },
   "outputs": [],
   "source": [
    "df_work_data = df_work_data.drop(sel_rows, axis=0)"
   ]
  },
  {
   "cell_type": "code",
   "execution_count": 43,
   "metadata": {
    "_uuid": "a412303e70671e5a5d76d0302bc521cbd06921a8"
   },
   "outputs": [
    {
     "data": {
      "text/plain": [
       "(10054, 23)"
      ]
     },
     "execution_count": 43,
     "metadata": {},
     "output_type": "execute_result"
    }
   ],
   "source": [
    "df_work_data.shape"
   ]
  },
  {
   "cell_type": "code",
   "execution_count": 44,
   "metadata": {
    "_uuid": "e5d19aed8be35674179e380aa09fc94d02e925e5"
   },
   "outputs": [],
   "source": [
    "# Target values for binary classification - home team win/lose"
   ]
  },
  {
   "cell_type": "code",
   "execution_count": 45,
   "metadata": {
    "_uuid": "82a5871f1875b6a700000d6d7918f069504dd3fb"
   },
   "outputs": [],
   "source": [
    "df_work_data['target'] = np.where(df_work_data.home_team_score > df_work_data.away_team_score, 1, 0)"
   ]
  },
  {
   "cell_type": "code",
   "execution_count": 46,
   "metadata": {
    "_uuid": "137b052f719629e0ae2df6f8b2638dce0c1b420f"
   },
   "outputs": [
    {
     "data": {
      "text/plain": [
       "array(['best_of', 'fist_half_home_side', 'maps', 'year', 'month',\n",
       "       'home_team_id', 'away_team_id', 'ht_p1_id', 'ht_p2_id', 'ht_p3_id',\n",
       "       'ht_p4_id', 'ht_p5_id', 'at_p1_id', 'at_p2_id', 'at_p3_id',\n",
       "       'at_p4_id', 'at_p5_id', 'home_first_score', 'away_first_score',\n",
       "       'home_second_score', 'away_second_score', 'home_team_score',\n",
       "       'away_team_score', 'target'], dtype=object)"
      ]
     },
     "execution_count": 46,
     "metadata": {},
     "output_type": "execute_result"
    }
   ],
   "source": [
    "df_work_data.columns.values"
   ]
  },
  {
   "cell_type": "code",
   "execution_count": 47,
   "metadata": {
    "_uuid": "df0f4fe3395bdfc41587226a8c4f11ef86982002",
    "scrolled": true
   },
   "outputs": [
    {
     "name": "stdout",
     "output_type": "stream",
     "text": [
      "<class 'pandas.core.frame.DataFrame'>\n",
      "Int64Index: 10054 entries, 0 to 10697\n",
      "Data columns (total 24 columns):\n",
      "best_of                10054 non-null int64\n",
      "fist_half_home_side    10054 non-null int64\n",
      "maps                   10054 non-null object\n",
      "year                   10054 non-null int64\n",
      "month                  10054 non-null int64\n",
      "home_team_id           10054 non-null int64\n",
      "away_team_id           10054 non-null int64\n",
      "ht_p1_id               10054 non-null int64\n",
      "ht_p2_id               10054 non-null int64\n",
      "ht_p3_id               10054 non-null int64\n",
      "ht_p4_id               10054 non-null int64\n",
      "ht_p5_id               10054 non-null int64\n",
      "at_p1_id               10054 non-null int64\n",
      "at_p2_id               10054 non-null int64\n",
      "at_p3_id               10054 non-null int64\n",
      "at_p4_id               10054 non-null int64\n",
      "at_p5_id               10054 non-null int64\n",
      "home_first_score       10054 non-null int64\n",
      "away_first_score       10054 non-null int64\n",
      "home_second_score      10054 non-null int64\n",
      "away_second_score      10054 non-null int64\n",
      "home_team_score        10054 non-null int64\n",
      "away_team_score        10054 non-null int64\n",
      "target                 10054 non-null int64\n",
      "dtypes: int64(23), object(1)\n",
      "memory usage: 1.9+ MB\n"
     ]
    }
   ],
   "source": [
    "df_work_data.info()"
   ]
  },
  {
   "cell_type": "markdown",
   "metadata": {
    "_uuid": "2de56429fcea4c491a0c1ff5df0028301031dcd3"
   },
   "source": [
    "## Preparing data for prediction model\n",
    "[Table of content](#Table-of-content)"
   ]
  },
  {
   "cell_type": "code",
   "execution_count": 48,
   "metadata": {
    "_uuid": "3c20c64bc446b5e4cd733a7d6073ee468f5d09cd"
   },
   "outputs": [],
   "source": [
    "from sklearn.preprocessing import LabelEncoder\n",
    "from sklearn.model_selection import train_test_split # splits data set into Train/Test."
   ]
  },
  {
   "cell_type": "code",
   "execution_count": 49,
   "metadata": {
    "_uuid": "ed09ee6b524adcec42ce6e052a4d88f95443c221"
   },
   "outputs": [],
   "source": [
    "lb_enc = LabelEncoder()"
   ]
  },
  {
   "cell_type": "code",
   "execution_count": 50,
   "metadata": {
    "_uuid": "82983466e852422263a41577627d1740777fc72b"
   },
   "outputs": [],
   "source": [
    "df_work_data[\"maps\"] = lb_enc.fit_transform(df_work_data[\"maps\"])"
   ]
  },
  {
   "cell_type": "code",
   "execution_count": 51,
   "metadata": {
    "_uuid": "4cd95e82c1661fb1ffc4d70c9a38eba66b8fb42c"
   },
   "outputs": [],
   "source": [
    "df_work_data = df_work_data.drop(['home_second_score', 'away_second_score',\n",
    "                    'home_team_score', 'away_team_score'], axis =1 )"
   ]
  },
  {
   "cell_type": "code",
   "execution_count": 52,
   "metadata": {
    "_uuid": "110fece3fd0c90a47f437f1e453c87216e1f256d"
   },
   "outputs": [
    {
     "data": {
      "text/plain": [
       "array(['best_of', 'fist_half_home_side', 'maps', 'year', 'month',\n",
       "       'home_team_id', 'away_team_id', 'ht_p1_id', 'ht_p2_id', 'ht_p3_id',\n",
       "       'ht_p4_id', 'ht_p5_id', 'at_p1_id', 'at_p2_id', 'at_p3_id',\n",
       "       'at_p4_id', 'at_p5_id', 'home_first_score', 'away_first_score',\n",
       "       'target'], dtype=object)"
      ]
     },
     "execution_count": 52,
     "metadata": {},
     "output_type": "execute_result"
    }
   ],
   "source": [
    "df_work_data.columns.values"
   ]
  },
  {
   "cell_type": "code",
   "execution_count": 53,
   "metadata": {
    "_uuid": "fa92c793078b9fdc4b6302124a212d7fda393228"
   },
   "outputs": [],
   "source": [
    "y = df_work_data['target']\n",
    "X = df_work_data.drop('target', axis=1)"
   ]
  },
  {
   "cell_type": "code",
   "execution_count": 54,
   "metadata": {
    "_uuid": "f5aa83ed7687681d78c03601aceecb4db49521b2"
   },
   "outputs": [],
   "source": [
    "X_train, X_test, y_train, y_test = train_test_split(X,y,test_size=0.1,random_state=123)"
   ]
  },
  {
   "cell_type": "markdown",
   "metadata": {
    "_uuid": "e1da881a2f2139e815d7e804203fe2a582cec367"
   },
   "source": [
    "## Predicting match based on half time score\n",
    "[Table of content](#Table-of-content)"
   ]
  },
  {
   "cell_type": "code",
   "execution_count": 55,
   "metadata": {
    "_uuid": "53bfbce7cea13506cab317a4e85f704d93cc348f"
   },
   "outputs": [
    {
     "name": "stderr",
     "output_type": "stream",
     "text": [
      "Using TensorFlow backend.\n"
     ]
    }
   ],
   "source": [
    "from keras.layers import Dense\n",
    "from keras.optimizers import Adam\n",
    "from keras.losses import sparse_categorical_crossentropy\n",
    "from keras import Sequential\n",
    "from keras.layers import Dropout\n",
    "import xgboost as xgb\n",
    "import time"
   ]
  },
  {
   "cell_type": "markdown",
   "metadata": {
    "_uuid": "96920169998fde5847d0849685c3b2785a8a1175"
   },
   "source": [
    "## XGBOOSTING matches\n",
    "[Table of content](#Table-of-content)"
   ]
  },
  {
   "cell_type": "code",
   "execution_count": 56,
   "metadata": {
    "_uuid": "ce83f6884d697dba6a2738d13196b7c1068c6550"
   },
   "outputs": [],
   "source": [
    "def XGBoost(X_train,X_test,y_train,y_test,num_rounds=500):\n",
    "    dtrain = xgb.DMatrix(X_train,label=y_train)\n",
    "    dtest = xgb.DMatrix(X_test,label=y_test)\n",
    "\n",
    "    return xgb.train(params={\n",
    "                    'tree_method':'gpu_exact',\n",
    "                    'eval_metric':'error',\n",
    "                    'objective':'gpu:binary:logistic'}\n",
    "                    ,dtrain=dtrain,num_boost_round=num_rounds, \n",
    "                    early_stopping_rounds=50,evals=[(dtest,'test')],)"
   ]
  },
  {
   "cell_type": "code",
   "execution_count": 57,
   "metadata": {
    "_kg_hide-output": true,
    "_uuid": "d621ddfc5c5bcf76950624a02bd2ee9253370b16"
   },
   "outputs": [
    {
     "name": "stdout",
     "output_type": "stream",
     "text": [
      "[17:12:27] /workspace/src/tree/updater_prune.cc:74: tree pruning end, 1 roots, 124 extra nodes, 0 pruned nodes, max_depth=6\n",
      "[0]\ttest-error:0.27336\n",
      "Will train until test-error hasn't improved in 50 rounds.\n",
      "[17:12:27] /workspace/src/tree/updater_prune.cc:74: tree pruning end, 1 roots, 126 extra nodes, 0 pruned nodes, max_depth=6\n",
      "[1]\ttest-error:0.272366\n",
      "[17:12:27] /workspace/src/tree/updater_prune.cc:74: tree pruning end, 1 roots, 126 extra nodes, 0 pruned nodes, max_depth=6\n",
      "[2]\ttest-error:0.26839\n",
      "[17:12:27] /workspace/src/tree/updater_prune.cc:74: tree pruning end, 1 roots, 126 extra nodes, 0 pruned nodes, max_depth=6\n",
      "[3]\ttest-error:0.261431\n",
      "[17:12:27] /workspace/src/tree/updater_prune.cc:74: tree pruning end, 1 roots, 126 extra nodes, 0 pruned nodes, max_depth=6\n",
      "[4]\ttest-error:0.258449\n",
      "[17:12:27] /workspace/src/tree/updater_prune.cc:74: tree pruning end, 1 roots, 126 extra nodes, 0 pruned nodes, max_depth=6\n",
      "[5]\ttest-error:0.252485\n",
      "[17:12:27] /workspace/src/tree/updater_prune.cc:74: tree pruning end, 1 roots, 124 extra nodes, 0 pruned nodes, max_depth=6\n",
      "[6]\ttest-error:0.249503\n",
      "[17:12:27] /workspace/src/tree/updater_prune.cc:74: tree pruning end, 1 roots, 124 extra nodes, 0 pruned nodes, max_depth=6\n",
      "[7]\ttest-error:0.249503\n",
      "[17:12:27] /workspace/src/tree/updater_prune.cc:74: tree pruning end, 1 roots, 122 extra nodes, 0 pruned nodes, max_depth=6\n",
      "[8]\ttest-error:0.251491\n",
      "[17:12:27] /workspace/src/tree/updater_prune.cc:74: tree pruning end, 1 roots, 126 extra nodes, 0 pruned nodes, max_depth=6\n",
      "[9]\ttest-error:0.248509\n",
      "[17:12:27] /workspace/src/tree/updater_prune.cc:74: tree pruning end, 1 roots, 124 extra nodes, 0 pruned nodes, max_depth=6\n",
      "[10]\ttest-error:0.247515\n",
      "[17:12:27] /workspace/src/tree/updater_prune.cc:74: tree pruning end, 1 roots, 126 extra nodes, 0 pruned nodes, max_depth=6\n",
      "[11]\ttest-error:0.242545\n",
      "[17:12:27] /workspace/src/tree/updater_prune.cc:74: tree pruning end, 1 roots, 112 extra nodes, 0 pruned nodes, max_depth=6\n",
      "[12]\ttest-error:0.241551\n",
      "[17:12:27] /workspace/src/tree/updater_prune.cc:74: tree pruning end, 1 roots, 60 extra nodes, 0 pruned nodes, max_depth=6\n",
      "[13]\ttest-error:0.241551\n",
      "[17:12:27] /workspace/src/tree/updater_prune.cc:74: tree pruning end, 1 roots, 120 extra nodes, 0 pruned nodes, max_depth=6\n",
      "[14]\ttest-error:0.240557\n",
      "[17:12:27] /workspace/src/tree/updater_prune.cc:74: tree pruning end, 1 roots, 110 extra nodes, 0 pruned nodes, max_depth=6\n",
      "[15]\ttest-error:0.243539\n",
      "[17:12:27] /workspace/src/tree/updater_prune.cc:74: tree pruning end, 1 roots, 70 extra nodes, 0 pruned nodes, max_depth=6\n",
      "[16]\ttest-error:0.243539\n",
      "[17:12:27] /workspace/src/tree/updater_prune.cc:74: tree pruning end, 1 roots, 82 extra nodes, 0 pruned nodes, max_depth=6\n",
      "[17]\ttest-error:0.243539\n",
      "[17:12:27] /workspace/src/tree/updater_prune.cc:74: tree pruning end, 1 roots, 124 extra nodes, 0 pruned nodes, max_depth=6\n",
      "[18]\ttest-error:0.244533\n",
      "[17:12:27] /workspace/src/tree/updater_prune.cc:74: tree pruning end, 1 roots, 120 extra nodes, 0 pruned nodes, max_depth=6\n",
      "[19]\ttest-error:0.243539\n",
      "[17:12:27] /workspace/src/tree/updater_prune.cc:74: tree pruning end, 1 roots, 116 extra nodes, 0 pruned nodes, max_depth=6\n",
      "[20]\ttest-error:0.243539\n",
      "[17:12:27] /workspace/src/tree/updater_prune.cc:74: tree pruning end, 1 roots, 124 extra nodes, 0 pruned nodes, max_depth=6\n",
      "[21]\ttest-error:0.243539\n",
      "[17:12:27] /workspace/src/tree/updater_prune.cc:74: tree pruning end, 1 roots, 124 extra nodes, 0 pruned nodes, max_depth=6\n",
      "[22]\ttest-error:0.244533\n",
      "[17:12:27] /workspace/src/tree/updater_prune.cc:74: tree pruning end, 1 roots, 122 extra nodes, 0 pruned nodes, max_depth=6\n",
      "[23]\ttest-error:0.242545\n",
      "[17:12:27] /workspace/src/tree/updater_prune.cc:74: tree pruning end, 1 roots, 120 extra nodes, 0 pruned nodes, max_depth=6\n",
      "[24]\ttest-error:0.241551\n",
      "[17:12:27] /workspace/src/tree/updater_prune.cc:74: tree pruning end, 1 roots, 114 extra nodes, 0 pruned nodes, max_depth=6\n",
      "[25]\ttest-error:0.243539\n",
      "[17:12:27] /workspace/src/tree/updater_prune.cc:74: tree pruning end, 1 roots, 108 extra nodes, 0 pruned nodes, max_depth=6\n",
      "[26]\ttest-error:0.241551\n",
      "[17:12:27] /workspace/src/tree/updater_prune.cc:74: tree pruning end, 1 roots, 122 extra nodes, 0 pruned nodes, max_depth=6\n",
      "[27]\ttest-error:0.241551\n",
      "[17:12:27] /workspace/src/tree/updater_prune.cc:74: tree pruning end, 1 roots, 110 extra nodes, 0 pruned nodes, max_depth=6\n",
      "[28]\ttest-error:0.241551\n",
      "[17:12:27] /workspace/src/tree/updater_prune.cc:74: tree pruning end, 1 roots, 100 extra nodes, 0 pruned nodes, max_depth=6\n",
      "[29]\ttest-error:0.240557\n",
      "[17:12:27] /workspace/src/tree/updater_prune.cc:74: tree pruning end, 1 roots, 124 extra nodes, 0 pruned nodes, max_depth=6\n",
      "[30]\ttest-error:0.240557\n",
      "[17:12:27] /workspace/src/tree/updater_prune.cc:74: tree pruning end, 1 roots, 126 extra nodes, 0 pruned nodes, max_depth=6\n",
      "[31]\ttest-error:0.241551\n",
      "[17:12:27] /workspace/src/tree/updater_prune.cc:74: tree pruning end, 1 roots, 114 extra nodes, 0 pruned nodes, max_depth=6\n",
      "[32]\ttest-error:0.241551\n",
      "[17:12:27] /workspace/src/tree/updater_prune.cc:74: tree pruning end, 1 roots, 114 extra nodes, 0 pruned nodes, max_depth=6\n",
      "[33]\ttest-error:0.236581\n",
      "[17:12:27] /workspace/src/tree/updater_prune.cc:74: tree pruning end, 1 roots, 122 extra nodes, 0 pruned nodes, max_depth=6\n",
      "[34]\ttest-error:0.233598\n",
      "[17:12:27] /workspace/src/tree/updater_prune.cc:74: tree pruning end, 1 roots, 114 extra nodes, 0 pruned nodes, max_depth=6\n",
      "[35]\ttest-error:0.227634\n",
      "[17:12:27] /workspace/src/tree/updater_prune.cc:74: tree pruning end, 1 roots, 118 extra nodes, 0 pruned nodes, max_depth=6\n",
      "[36]\ttest-error:0.23161\n",
      "[17:12:27] /workspace/src/tree/updater_prune.cc:74: tree pruning end, 1 roots, 120 extra nodes, 0 pruned nodes, max_depth=6\n",
      "[37]\ttest-error:0.232604\n",
      "[17:12:27] /workspace/src/tree/updater_prune.cc:74: tree pruning end, 1 roots, 112 extra nodes, 0 pruned nodes, max_depth=6\n",
      "[38]\ttest-error:0.232604\n",
      "[17:12:27] /workspace/src/tree/updater_prune.cc:74: tree pruning end, 1 roots, 126 extra nodes, 0 pruned nodes, max_depth=6\n",
      "[39]\ttest-error:0.235586\n",
      "[17:12:27] /workspace/src/tree/updater_prune.cc:74: tree pruning end, 1 roots, 82 extra nodes, 0 pruned nodes, max_depth=6\n",
      "[40]\ttest-error:0.237575\n",
      "[17:12:27] /workspace/src/tree/updater_prune.cc:74: tree pruning end, 1 roots, 124 extra nodes, 0 pruned nodes, max_depth=6\n",
      "[41]\ttest-error:0.239563\n",
      "[17:12:27] /workspace/src/tree/updater_prune.cc:74: tree pruning end, 1 roots, 80 extra nodes, 0 pruned nodes, max_depth=6\n",
      "[42]\ttest-error:0.240557\n",
      "[17:12:27] /workspace/src/tree/updater_prune.cc:74: tree pruning end, 1 roots, 124 extra nodes, 0 pruned nodes, max_depth=6\n",
      "[43]\ttest-error:0.236581\n",
      "[17:12:27] /workspace/src/tree/updater_prune.cc:74: tree pruning end, 1 roots, 124 extra nodes, 0 pruned nodes, max_depth=6\n",
      "[44]\ttest-error:0.237575\n",
      "[17:12:27] /workspace/src/tree/updater_prune.cc:74: tree pruning end, 1 roots, 120 extra nodes, 0 pruned nodes, max_depth=6\n",
      "[45]\ttest-error:0.239563\n",
      "[17:12:27] /workspace/src/tree/updater_prune.cc:74: tree pruning end, 1 roots, 126 extra nodes, 0 pruned nodes, max_depth=6\n",
      "[46]\ttest-error:0.233598\n",
      "[17:12:27] /workspace/src/tree/updater_prune.cc:74: tree pruning end, 1 roots, 126 extra nodes, 0 pruned nodes, max_depth=6\n",
      "[47]\ttest-error:0.234592\n",
      "[17:12:27] /workspace/src/tree/updater_prune.cc:74: tree pruning end, 1 roots, 126 extra nodes, 0 pruned nodes, max_depth=6\n",
      "[48]\ttest-error:0.230616\n",
      "[17:12:27] /workspace/src/tree/updater_prune.cc:74: tree pruning end, 1 roots, 126 extra nodes, 0 pruned nodes, max_depth=6\n",
      "[49]\ttest-error:0.227634\n",
      "[17:12:27] /workspace/src/tree/updater_prune.cc:74: tree pruning end, 1 roots, 118 extra nodes, 0 pruned nodes, max_depth=6\n",
      "[50]\ttest-error:0.225646\n",
      "[17:12:27] /workspace/src/tree/updater_prune.cc:74: tree pruning end, 1 roots, 120 extra nodes, 0 pruned nodes, max_depth=6\n",
      "[51]\ttest-error:0.22664\n",
      "[17:12:27] /workspace/src/tree/updater_prune.cc:74: tree pruning end, 1 roots, 114 extra nodes, 0 pruned nodes, max_depth=6\n",
      "[52]\ttest-error:0.22664\n",
      "[17:12:27] /workspace/src/tree/updater_prune.cc:74: tree pruning end, 1 roots, 122 extra nodes, 0 pruned nodes, max_depth=6\n",
      "[53]\ttest-error:0.225646\n",
      "[17:12:27] /workspace/src/tree/updater_prune.cc:74: tree pruning end, 1 roots, 112 extra nodes, 0 pruned nodes, max_depth=6\n",
      "[54]\ttest-error:0.227634\n"
     ]
    },
    {
     "name": "stdout",
     "output_type": "stream",
     "text": [
      "[17:12:27] /workspace/src/tree/updater_prune.cc:74: tree pruning end, 1 roots, 106 extra nodes, 0 pruned nodes, max_depth=6\n",
      "[55]\ttest-error:0.22664\n",
      "[17:12:27] /workspace/src/tree/updater_prune.cc:74: tree pruning end, 1 roots, 124 extra nodes, 0 pruned nodes, max_depth=6\n",
      "[56]\ttest-error:0.228628\n",
      "[17:12:27] /workspace/src/tree/updater_prune.cc:74: tree pruning end, 1 roots, 110 extra nodes, 0 pruned nodes, max_depth=6\n",
      "[57]\ttest-error:0.227634\n",
      "[17:12:27] /workspace/src/tree/updater_prune.cc:74: tree pruning end, 1 roots, 110 extra nodes, 0 pruned nodes, max_depth=6\n",
      "[58]\ttest-error:0.225646\n",
      "[17:12:27] /workspace/src/tree/updater_prune.cc:74: tree pruning end, 1 roots, 112 extra nodes, 0 pruned nodes, max_depth=6\n",
      "[59]\ttest-error:0.222664\n",
      "[17:12:27] /workspace/src/tree/updater_prune.cc:74: tree pruning end, 1 roots, 112 extra nodes, 0 pruned nodes, max_depth=6\n",
      "[60]\ttest-error:0.225646\n",
      "[17:12:27] /workspace/src/tree/updater_prune.cc:74: tree pruning end, 1 roots, 116 extra nodes, 0 pruned nodes, max_depth=6\n",
      "[61]\ttest-error:0.224652\n",
      "[17:12:28] /workspace/src/tree/updater_prune.cc:74: tree pruning end, 1 roots, 120 extra nodes, 0 pruned nodes, max_depth=6\n",
      "[62]\ttest-error:0.222664\n",
      "[17:12:28] /workspace/src/tree/updater_prune.cc:74: tree pruning end, 1 roots, 122 extra nodes, 0 pruned nodes, max_depth=6\n",
      "[63]\ttest-error:0.22167\n",
      "[17:12:28] /workspace/src/tree/updater_prune.cc:74: tree pruning end, 1 roots, 116 extra nodes, 0 pruned nodes, max_depth=6\n",
      "[64]\ttest-error:0.225646\n",
      "[17:12:28] /workspace/src/tree/updater_prune.cc:74: tree pruning end, 1 roots, 126 extra nodes, 0 pruned nodes, max_depth=6\n",
      "[65]\ttest-error:0.223658\n",
      "[17:12:28] /workspace/src/tree/updater_prune.cc:74: tree pruning end, 1 roots, 118 extra nodes, 0 pruned nodes, max_depth=6\n",
      "[66]\ttest-error:0.225646\n",
      "[17:12:28] /workspace/src/tree/updater_prune.cc:74: tree pruning end, 1 roots, 126 extra nodes, 0 pruned nodes, max_depth=6\n",
      "[67]\ttest-error:0.228628\n",
      "[17:12:28] /workspace/src/tree/updater_prune.cc:74: tree pruning end, 1 roots, 122 extra nodes, 0 pruned nodes, max_depth=6\n",
      "[68]\ttest-error:0.230616\n",
      "[17:12:28] /workspace/src/tree/updater_prune.cc:74: tree pruning end, 1 roots, 122 extra nodes, 0 pruned nodes, max_depth=6\n",
      "[69]\ttest-error:0.229622\n",
      "[17:12:28] /workspace/src/tree/updater_prune.cc:74: tree pruning end, 1 roots, 118 extra nodes, 0 pruned nodes, max_depth=6\n",
      "[70]\ttest-error:0.233598\n",
      "[17:12:28] /workspace/src/tree/updater_prune.cc:74: tree pruning end, 1 roots, 126 extra nodes, 0 pruned nodes, max_depth=6\n",
      "[71]\ttest-error:0.23161\n",
      "[17:12:28] /workspace/src/tree/updater_prune.cc:74: tree pruning end, 1 roots, 112 extra nodes, 0 pruned nodes, max_depth=6\n",
      "[72]\ttest-error:0.229622\n",
      "[17:12:28] /workspace/src/tree/updater_prune.cc:74: tree pruning end, 1 roots, 118 extra nodes, 0 pruned nodes, max_depth=6\n",
      "[73]\ttest-error:0.232604\n",
      "[17:12:28] /workspace/src/tree/updater_prune.cc:74: tree pruning end, 1 roots, 120 extra nodes, 0 pruned nodes, max_depth=6\n",
      "[74]\ttest-error:0.235586\n",
      "[17:12:28] /workspace/src/tree/updater_prune.cc:74: tree pruning end, 1 roots, 114 extra nodes, 0 pruned nodes, max_depth=6\n",
      "[75]\ttest-error:0.236581\n",
      "[17:12:28] /workspace/src/tree/updater_prune.cc:74: tree pruning end, 1 roots, 110 extra nodes, 0 pruned nodes, max_depth=6\n",
      "[76]\ttest-error:0.234592\n",
      "[17:12:28] /workspace/src/tree/updater_prune.cc:74: tree pruning end, 1 roots, 126 extra nodes, 0 pruned nodes, max_depth=6\n",
      "[77]\ttest-error:0.234592\n",
      "[17:12:28] /workspace/src/tree/updater_prune.cc:74: tree pruning end, 1 roots, 112 extra nodes, 0 pruned nodes, max_depth=6\n",
      "[78]\ttest-error:0.233598\n",
      "[17:12:28] /workspace/src/tree/updater_prune.cc:74: tree pruning end, 1 roots, 122 extra nodes, 0 pruned nodes, max_depth=6\n",
      "[79]\ttest-error:0.232604\n",
      "[17:12:28] /workspace/src/tree/updater_prune.cc:74: tree pruning end, 1 roots, 124 extra nodes, 0 pruned nodes, max_depth=6\n",
      "[80]\ttest-error:0.23161\n",
      "[17:12:28] /workspace/src/tree/updater_prune.cc:74: tree pruning end, 1 roots, 126 extra nodes, 0 pruned nodes, max_depth=6\n",
      "[81]\ttest-error:0.235586\n",
      "[17:12:28] /workspace/src/tree/updater_prune.cc:74: tree pruning end, 1 roots, 108 extra nodes, 0 pruned nodes, max_depth=6\n",
      "[82]\ttest-error:0.233598\n",
      "[17:12:28] /workspace/src/tree/updater_prune.cc:74: tree pruning end, 1 roots, 112 extra nodes, 0 pruned nodes, max_depth=6\n",
      "[83]\ttest-error:0.236581\n",
      "[17:12:28] /workspace/src/tree/updater_prune.cc:74: tree pruning end, 1 roots, 102 extra nodes, 0 pruned nodes, max_depth=6\n",
      "[84]\ttest-error:0.236581\n",
      "[17:12:28] /workspace/src/tree/updater_prune.cc:74: tree pruning end, 1 roots, 126 extra nodes, 0 pruned nodes, max_depth=6\n",
      "[85]\ttest-error:0.237575\n",
      "[17:12:28] /workspace/src/tree/updater_prune.cc:74: tree pruning end, 1 roots, 126 extra nodes, 0 pruned nodes, max_depth=6\n",
      "[86]\ttest-error:0.237575\n",
      "[17:12:28] /workspace/src/tree/updater_prune.cc:74: tree pruning end, 1 roots, 122 extra nodes, 0 pruned nodes, max_depth=6\n",
      "[87]\ttest-error:0.236581\n",
      "[17:12:28] /workspace/src/tree/updater_prune.cc:74: tree pruning end, 1 roots, 122 extra nodes, 0 pruned nodes, max_depth=6\n",
      "[88]\ttest-error:0.234592\n",
      "[17:12:28] /workspace/src/tree/updater_prune.cc:74: tree pruning end, 1 roots, 102 extra nodes, 0 pruned nodes, max_depth=6\n",
      "[89]\ttest-error:0.234592\n",
      "[17:12:28] /workspace/src/tree/updater_prune.cc:74: tree pruning end, 1 roots, 120 extra nodes, 0 pruned nodes, max_depth=6\n",
      "[90]\ttest-error:0.233598\n",
      "[17:12:28] /workspace/src/tree/updater_prune.cc:74: tree pruning end, 1 roots, 122 extra nodes, 0 pruned nodes, max_depth=6\n",
      "[91]\ttest-error:0.232604\n",
      "[17:12:28] /workspace/src/tree/updater_prune.cc:74: tree pruning end, 1 roots, 110 extra nodes, 0 pruned nodes, max_depth=6\n",
      "[92]\ttest-error:0.230616\n",
      "[17:12:28] /workspace/src/tree/updater_prune.cc:74: tree pruning end, 1 roots, 126 extra nodes, 0 pruned nodes, max_depth=6\n",
      "[93]\ttest-error:0.227634\n",
      "[17:12:28] /workspace/src/tree/updater_prune.cc:74: tree pruning end, 1 roots, 126 extra nodes, 0 pruned nodes, max_depth=6\n",
      "[94]\ttest-error:0.223658\n",
      "[17:12:28] /workspace/src/tree/updater_prune.cc:74: tree pruning end, 1 roots, 122 extra nodes, 0 pruned nodes, max_depth=6\n",
      "[95]\ttest-error:0.228628\n",
      "[17:12:28] /workspace/src/tree/updater_prune.cc:74: tree pruning end, 1 roots, 126 extra nodes, 0 pruned nodes, max_depth=6\n",
      "[96]\ttest-error:0.230616\n",
      "[17:12:28] /workspace/src/tree/updater_prune.cc:74: tree pruning end, 1 roots, 126 extra nodes, 0 pruned nodes, max_depth=6\n",
      "[97]\ttest-error:0.227634\n",
      "[17:12:28] /workspace/src/tree/updater_prune.cc:74: tree pruning end, 1 roots, 118 extra nodes, 0 pruned nodes, max_depth=6\n",
      "[98]\ttest-error:0.227634\n",
      "[17:12:28] /workspace/src/tree/updater_prune.cc:74: tree pruning end, 1 roots, 122 extra nodes, 0 pruned nodes, max_depth=6\n",
      "[99]\ttest-error:0.224652\n",
      "[17:12:28] /workspace/src/tree/updater_prune.cc:74: tree pruning end, 1 roots, 106 extra nodes, 0 pruned nodes, max_depth=6\n",
      "[100]\ttest-error:0.223658\n",
      "[17:12:28] /workspace/src/tree/updater_prune.cc:74: tree pruning end, 1 roots, 122 extra nodes, 0 pruned nodes, max_depth=6\n",
      "[101]\ttest-error:0.227634\n",
      "[17:12:28] /workspace/src/tree/updater_prune.cc:74: tree pruning end, 1 roots, 118 extra nodes, 0 pruned nodes, max_depth=6\n",
      "[102]\ttest-error:0.224652\n",
      "[17:12:28] /workspace/src/tree/updater_prune.cc:74: tree pruning end, 1 roots, 126 extra nodes, 0 pruned nodes, max_depth=6\n",
      "[103]\ttest-error:0.22664\n",
      "[17:12:28] /workspace/src/tree/updater_prune.cc:74: tree pruning end, 1 roots, 112 extra nodes, 0 pruned nodes, max_depth=6\n",
      "[104]\ttest-error:0.228628\n",
      "[17:12:28] /workspace/src/tree/updater_prune.cc:74: tree pruning end, 1 roots, 116 extra nodes, 0 pruned nodes, max_depth=6\n",
      "[105]\ttest-error:0.225646\n",
      "[17:12:28] /workspace/src/tree/updater_prune.cc:74: tree pruning end, 1 roots, 124 extra nodes, 0 pruned nodes, max_depth=6\n",
      "[106]\ttest-error:0.230616\n",
      "[17:12:28] /workspace/src/tree/updater_prune.cc:74: tree pruning end, 1 roots, 126 extra nodes, 0 pruned nodes, max_depth=6\n",
      "[107]\ttest-error:0.235586\n",
      "[17:12:28] /workspace/src/tree/updater_prune.cc:74: tree pruning end, 1 roots, 110 extra nodes, 0 pruned nodes, max_depth=6\n",
      "[108]\ttest-error:0.229622\n",
      "[17:12:28] /workspace/src/tree/updater_prune.cc:74: tree pruning end, 1 roots, 122 extra nodes, 0 pruned nodes, max_depth=6\n",
      "[109]\ttest-error:0.23161\n"
     ]
    },
    {
     "name": "stdout",
     "output_type": "stream",
     "text": [
      "[17:12:28] /workspace/src/tree/updater_prune.cc:74: tree pruning end, 1 roots, 126 extra nodes, 0 pruned nodes, max_depth=6\n",
      "[110]\ttest-error:0.230616\n",
      "[17:12:28] /workspace/src/tree/updater_prune.cc:74: tree pruning end, 1 roots, 126 extra nodes, 0 pruned nodes, max_depth=6\n",
      "[111]\ttest-error:0.230616\n",
      "[17:12:28] /workspace/src/tree/updater_prune.cc:74: tree pruning end, 1 roots, 124 extra nodes, 0 pruned nodes, max_depth=6\n",
      "[112]\ttest-error:0.232604\n",
      "[17:12:28] /workspace/src/tree/updater_prune.cc:74: tree pruning end, 1 roots, 112 extra nodes, 0 pruned nodes, max_depth=6\n",
      "[113]\ttest-error:0.233598\n",
      "Stopping. Best iteration:\n",
      "[63]\ttest-error:0.22167\n",
      "\n"
     ]
    }
   ],
   "source": [
    "xgbm = XGBoost(X_train,X_test,y_train,y_test) # For output, click on the code button"
   ]
  },
  {
   "cell_type": "markdown",
   "metadata": {
    "_uuid": "d94806e6c7ce8c60e5ab7f2c8a80a35ce581fe9a"
   },
   "source": [
    "The first run of xgboost gives ~22% error rate, on the LAN matches after the first half. Having only a few data points in dataset I think this is a pretty good result."
   ]
  },
  {
   "cell_type": "markdown",
   "metadata": {
    "_uuid": "ad17a7dd48a50f9a96eec6f3967441ec79d6b7cc"
   },
   "source": [
    "## XGBOOST Tuning\n",
    "[Table of content](#Table-of-content)"
   ]
  },
  {
   "cell_type": "markdown",
   "metadata": {
    "_uuid": "3650465950e05ee5a902bb500ae8b5dd111f31a4"
   },
   "source": [
    "Dataset is small and one model with GPU support is trained in ~1 second, so why not try grid search with xgboost?"
   ]
  },
  {
   "cell_type": "code",
   "execution_count": 58,
   "metadata": {
    "_uuid": "94748ec5587e760bed9232ec41d4abf6242a2630",
    "scrolled": true
   },
   "outputs": [
    {
     "name": "stdout",
     "output_type": "stream",
     "text": [
      "---------- ---------\n",
      "Training model 1 of 1 ...\n",
      "col_sample_rate = 1\n",
      "subsample = 1\n",
      "eta = 0.1\n",
      "max_depth = 8\n",
      "reg_alpha = 0.004\n",
      "reg_lambda = 0.001\n",
      "ntree = 3000\n",
      "min_child_weights =  3\n",
      "Model 0 trained in 1.44 s.\n",
      "Model 0 best score = 0.2306\n",
      "Best so far!!!\n",
      "Best error = 0.230616\n",
      "Best model found at iteration: 1, with error: 0.2306.\n"
     ]
    }
   ],
   "source": [
    "iter_ = 0 \n",
    "best_error = 0\n",
    "best_iter = 0\n",
    "best_model = None\n",
    "\n",
    "col_sample_rates = [1]\n",
    "subsamples = [1]\n",
    "etas = [0.1]\n",
    "max_depths = [8]\n",
    "reg_alphas = [0.004]\n",
    "reg_lambdas = [0.001]\n",
    "min_child_weights = [3]\n",
    "ntrees = [3000]\n",
    "\n",
    "total_models = len(col_sample_rates)*len(subsamples)*len(etas)*len(max_depths)*len(reg_alphas) *len(reg_lambdas)*len(ntrees)*len(min_child_weights)\n",
    "best_error = 1\n",
    "dtrain = xgb.DMatrix(X_train,label=y_train)\n",
    "dtest = xgb.DMatrix(X_test,label=y_test)\n",
    "# determine mean y value in training\n",
    "# y_mean = train[y].mean()\n",
    "\n",
    "for col_sample_rate in col_sample_rates:\n",
    "    for subsample in subsamples:\n",
    "        for eta in etas:\n",
    "            for max_depth in max_depths:\n",
    "                for reg_alpha in reg_alphas:\n",
    "                    for reg_lambda in reg_lambdas:\n",
    "                        for ntree in ntrees:\n",
    "                            for min_child_weight in min_child_weights:\n",
    "                                tic = time.time()\n",
    "\n",
    "                                print('---------- ---------')\n",
    "\n",
    "                                print('Training model %d of %d ...' % (iter_ + 1, total_models))\n",
    "                                print('col_sample_rate =', col_sample_rate)\n",
    "                                print('subsample =', subsample)\n",
    "                                print('eta =', eta)\n",
    "                                print('max_depth =', max_depth)\n",
    "                                print('reg_alpha =', reg_alpha)\n",
    "                                print('reg_lambda =', reg_lambda)\n",
    "                                print('ntree =', ntree)\n",
    "                                print('min_child_weights = ', min_child_weight)\n",
    "\n",
    "                                params = {\n",
    "                                     'booster': 'gbtree',\n",
    "                                     'colsample_bytree': col_sample_rate,\n",
    "                                     'eta': eta,\n",
    "                                     'max_depth': max_depth,\n",
    "                                     'nthread': -1,\n",
    "                                     'min_child_weight': min_child_weight,\n",
    "                                     'reg_alpha': reg_alpha,\n",
    "                                     'reg_lambda': reg_lambda,\n",
    "                                     'seed': 12345,\n",
    "                                     'silent': 1,\n",
    "                                     'n_estimators':ntree,\n",
    "                                     'tree_method':'gpu_exact',\n",
    "                                     'eval_metric':'error',\n",
    "                                     'objective':'gpu:binary:logistic',\n",
    "                                     'subsample': subsample}\n",
    "\n",
    "                                watchlist = [(dtrain, 'train'), (dtest, 'eval')]\n",
    "\n",
    "                                model = xgb.train(\n",
    "                                                params, \n",
    "                                                dtrain, \n",
    "                                                ntree,\n",
    "                                                early_stopping_rounds=100,\n",
    "                                                evals=watchlist, \n",
    "                                                verbose_eval=False)\n",
    "\n",
    "                                print('Model %d trained in %.2f s.'  % (iter_, time.time()-tic))\n",
    "                                print('Model %d best score = %.4f' % (iter_, model.best_score))\n",
    "\n",
    "                                if model.best_score < best_error:\n",
    "                                    best_error = model.best_score\n",
    "                                    best_iter = iter_\n",
    "                                    best_model = model \n",
    "                                    print('Best so far!!!')\n",
    "                                    print('Best error =', best_error)\n",
    "\n",
    "\n",
    "                                iter_ += 1\n",
    "\n",
    "print('Best model found at iteration: %d, with error: %.4f.' % (best_iter + 1, best_error))   "
   ]
  },
  {
   "cell_type": "markdown",
   "metadata": {
    "_uuid": "8dc58f8422ec80a926c3128f1b692eba0ee1d11a"
   },
   "source": [
    "Model was pre trained, I've left only best parameters in grid search. A score is the same as in case of default settings."
   ]
  },
  {
   "cell_type": "markdown",
   "metadata": {
    "_uuid": "c2d66cab79e52573ad75918b965449fd1100b384"
   },
   "source": [
    "## Multilayer perceptron\n",
    "[Table of content](#Table-of-content)"
   ]
  },
  {
   "cell_type": "code",
   "execution_count": 59,
   "metadata": {
    "_uuid": "9c9f2becdcd9850bfded766d6d15dec17007471f"
   },
   "outputs": [],
   "source": [
    "model = Sequential()\n",
    "model.add(Dense(19, activation=\"relu\",input_shape=(19,)))\n",
    "model.add(Dense(15,activation=\"tanh\"))\n",
    "model.add(Dense(2))\n",
    "model.compile(loss=\"sparse_categorical_crossentropy\",optimizer=\"adam\",metrics=[\"accuracy\"])"
   ]
  },
  {
   "cell_type": "code",
   "execution_count": 60,
   "metadata": {
    "_uuid": "cb637ebb58832cb0d3a8d410010628cc1f0f180d"
   },
   "outputs": [
    {
     "name": "stdout",
     "output_type": "stream",
     "text": [
      "Epoch 1/5\n",
      "9048/9048 [==============================] - 1s 63us/step - loss: 4.7009 - acc: 0.5244\n",
      "Epoch 2/5\n",
      "9048/9048 [==============================] - 0s 34us/step - loss: 3.1282 - acc: 0.5183\n",
      "Epoch 3/5\n",
      "9048/9048 [==============================] - 0s 35us/step - loss: 3.4528 - acc: 0.5183\n",
      "Epoch 4/5\n",
      "9048/9048 [==============================] - 0s 32us/step - loss: 3.2104 - acc: 0.5298\n",
      "Epoch 5/5\n",
      "9048/9048 [==============================] - 1s 60us/step - loss: 4.1293 - acc: 0.5431\n"
     ]
    },
    {
     "data": {
      "text/plain": [
       "<keras.callbacks.History at 0x7ff05689fe10>"
      ]
     },
     "execution_count": 60,
     "metadata": {},
     "output_type": "execute_result"
    }
   ],
   "source": [
    "model.fit(x=X_train,y=y_train,batch_size=100,epochs=5)"
   ]
  },
  {
   "cell_type": "markdown",
   "metadata": {
    "_uuid": "63915b956cf1c7823205db318a7a7285b6a4cdec"
   },
   "source": [
    "Accuracy score with MLP is very low (comparing to xgboost), but what to expect with a dataset that small."
   ]
  }
 ],
 "metadata": {
  "kernelspec": {
   "display_name": "Python 3",
   "language": "python",
   "name": "python3"
  },
  "language_info": {
   "codemirror_mode": {
    "name": "ipython",
    "version": 3
   },
   "file_extension": ".py",
   "mimetype": "text/x-python",
   "name": "python",
   "nbconvert_exporter": "python",
   "pygments_lexer": "ipython3",
   "version": "3.6.8"
  }
 },
 "nbformat": 4,
 "nbformat_minor": 1
}
